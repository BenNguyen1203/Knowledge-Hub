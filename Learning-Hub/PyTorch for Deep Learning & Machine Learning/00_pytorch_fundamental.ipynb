{
  "nbformat": 4,
  "nbformat_minor": 0,
  "metadata": {
    "colab": {
      "provenance": [],
      "gpuType": "T4",
      "include_colab_link": true
    },
    "kernelspec": {
      "name": "python3",
      "display_name": "Python 3"
    },
    "language_info": {
      "name": "python"
    },
    "accelerator": "GPU"
  },
  "cells": [
    {
      "cell_type": "markdown",
      "metadata": {
        "id": "view-in-github",
        "colab_type": "text"
      },
      "source": [
        "<a href=\"https://colab.research.google.com/github/BenNguyen1203/Knowledge-Hub/blob/main/Learning-Hub/PyTorch%20for%20Deep%20Learning%20%26%20Machine%20Learning/00_pytorch_fundamental.ipynb\" target=\"_parent\"><img src=\"https://colab.research.google.com/assets/colab-badge.svg\" alt=\"Open In Colab\"/></a>"
      ]
    },
    {
      "cell_type": "markdown",
      "source": [
        "00. PyTorch Fundamentals"
      ],
      "metadata": {
        "id": "4J3yF4JJ1l_5"
      }
    },
    {
      "cell_type": "code",
      "source": [
        "import torch\n",
        "import pandas as pd\n",
        "import numpy as np\n",
        "import matplotlib.pyplot as plt"
      ],
      "metadata": {
        "id": "nIpyyVEd10dj"
      },
      "execution_count": null,
      "outputs": []
    },
    {
      "cell_type": "markdown",
      "source": [
        "## Introduction to Tensors"
      ],
      "metadata": {
        "id": "f2OlAHiG2F7q"
      }
    },
    {
      "cell_type": "markdown",
      "source": [
        "### Creating Tensors\n",
        "\n",
        "PyTorch tensors are created using `torch.Tensor()`\n",
        "\n",
        "Documentation: https://pytorch.org/docs/stable/tensors.html"
      ],
      "metadata": {
        "id": "0bBbyI_LDwYh"
      }
    },
    {
      "cell_type": "code",
      "source": [
        "# Scalar\n",
        "scalar = torch.tensor(7)\n",
        "scalar\n",
        "# Dimension of scalar -> return 0\n",
        "scalar.ndim\n",
        "# Get tensor back as Python int -> return 7\n",
        "scalar.item()"
      ],
      "metadata": {
        "colab": {
          "base_uri": "https://localhost:8080/"
        },
        "id": "OG0d_QIt7-Ec",
        "outputId": "8e2f5b74-dcc0-47df-c633-656072131dad"
      },
      "execution_count": null,
      "outputs": [
        {
          "output_type": "execute_result",
          "data": {
            "text/plain": [
              "tensor(7)"
            ]
          },
          "metadata": {},
          "execution_count": 3
        }
      ]
    },
    {
      "cell_type": "code",
      "source": [
        "# Vector\n",
        "vector = torch.tensor([7, 7])\n",
        "vector\n",
        "# Dimension of vector -> return 1\n",
        "vector.ndim\n",
        "# Shape/Size of vector -> return 2\n",
        "vector.shape"
      ],
      "metadata": {
        "colab": {
          "base_uri": "https://localhost:8080/"
        },
        "id": "40kK0Vso-LBf",
        "outputId": "dac1537a-5c0d-4795-a556-465853841f04"
      },
      "execution_count": null,
      "outputs": [
        {
          "output_type": "execute_result",
          "data": {
            "text/plain": [
              "tensor([7, 7])"
            ]
          },
          "metadata": {},
          "execution_count": 8
        }
      ]
    },
    {
      "cell_type": "code",
      "source": [
        "# Matrix\n",
        "MATRIX = torch.tensor([[7, 8 ],\n",
        "                       [9, 10]])\n",
        "MATRIX\n",
        "# Dimension of MATRIX -> return 2\n",
        "MATRIX.ndim\n",
        "# Return 1st value -> return tensor([9, 10])\n",
        "MATRIX[1]\n",
        "# # Shape/Size of MATRIX -> return torch.Size([2, 2])\n",
        "MATRIX.shape"
      ],
      "metadata": {
        "colab": {
          "base_uri": "https://localhost:8080/"
        },
        "id": "NeJFjn9I_KAC",
        "outputId": "808f5d10-ea3d-4bc3-8c14-49eb3edba15b"
      },
      "execution_count": null,
      "outputs": [
        {
          "output_type": "execute_result",
          "data": {
            "text/plain": [
              "torch.Size([2, 2])"
            ]
          },
          "metadata": {},
          "execution_count": 9
        }
      ]
    },
    {
      "cell_type": "code",
      "source": [
        "# TENSOR\n",
        "TENSOR = torch.tensor([[[1, 2, 3],\n",
        "                        [3, 6, 9],\n",
        "                        [2, 4, 5]]])\n",
        "TENSOR\n",
        "TENSOR.ndim # -> return 3 a.k.a number of square brackets\n",
        "TENSOR.shape # -> return torch.Size([1, 3, 3]) a.k.a 1 value inside outer bracket, 3 values inside middle bracket, 3 values inside inner bracket\n",
        "             # -> outer bracket is dim 0, middle bracket is dim 1, inner bracket is dim 2"
      ],
      "metadata": {
        "colab": {
          "base_uri": "https://localhost:8080/"
        },
        "id": "USNSpDTEALHC",
        "outputId": "17cdeb50-39fb-4173-8cc0-c98031bafc3d"
      },
      "execution_count": null,
      "outputs": [
        {
          "output_type": "execute_result",
          "data": {
            "text/plain": [
              "tensor([[[1, 2, 3],\n",
              "         [3, 6, 9],\n",
              "         [2, 4, 5]]])"
            ]
          },
          "metadata": {},
          "execution_count": 10
        }
      ]
    },
    {
      "cell_type": "markdown",
      "source": [
        "### Random Tensors\n",
        "\n",
        "Why random tensors?\n",
        "Random tensors are important because the way many neural networks learn is that they start with tensors full of random numbers and then adjust those random numbers to better represent the data.\n",
        "\n",
        "`Start with random numbers -> look at data -> update random numbers -> look at data -> update random numbers`\n",
        "\n",
        "Documentation: https://pytorch.org/docs/stable/generated/torch.rand.html"
      ],
      "metadata": {
        "id": "KyRBP8aNCp8X"
      }
    },
    {
      "cell_type": "code",
      "source": [
        "# Create a random tensor of size (3, 4)\n",
        "random_tensor = torch.rand(3, 4)"
      ],
      "metadata": {
        "id": "0cyLXa8zCu2M"
      },
      "execution_count": null,
      "outputs": []
    }
  ]
}